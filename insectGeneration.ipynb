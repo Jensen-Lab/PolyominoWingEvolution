{
 "cells": [
  {
   "cell_type": "code",
   "execution_count": 10,
   "metadata": {},
   "outputs": [],
   "source": [
    "import numpy as np\n",
    "import random\n",
    "from scipy import ndimage\n",
    "from scipy.ndimage import label\n",
    "import matplotlib.pyplot as plt\n",
    "import string"
   ]
  },
  {
   "cell_type": "code",
   "execution_count": 11,
   "metadata": {},
   "outputs": [],
   "source": [
    "## CHECK WHETHER THE INSECT IS VALID\n",
    "def insectCheck(insect ,checkValues ,aspectRatio):\n",
    "\n",
    "    # adding a boundary outside the insect\n",
    "    borderSide = np.zeros((aspectRatio ,1))\n",
    "    borderTop = np.zeros(2*aspectRatio + 3)\n",
    "    insect = np.concatenate((np.concatenate((borderSide,insect),axis = 1),borderSide),axis = 1)\n",
    "    insect = np.vstack((np.vstack((borderTop ,insect)),borderTop))\n",
    "    \n",
    "    # check for empty spaces \n",
    "    _, featureNo = label(insect)\n",
    "\n",
    "    # check for empty spaces\n",
    "    _, negFeatureNo = label(1 - insect)\n",
    "    \n",
    "    return featureNo == checkValues [0] and negFeatureNo == checkValues [1]"
   ]
  },
  {
   "cell_type": "code",
   "execution_count": 12,
   "metadata": {},
   "outputs": [],
   "source": [
    "## ESTABLISHING THE FUNCTION FOR GENERATING A RANDOM WING\n",
    "\n",
    "def insectGeneration(aspectRatio,wingType):\n",
    "        \n",
    "        # initiate for check of simply rook-wise connected polyominoes condition\n",
    "        result = False\n",
    "        checkValues = np.array([1,1])\n",
    "\n",
    "        if wingType == 'random':\n",
    "                # a wing with a random number of elements\n",
    "                nWing = int(random.uniform(0, aspectRatio * aspectRatio))\n",
    "        else:\n",
    "                # a wing with a pre-determined number of elements\n",
    "                nWing = wingType\n",
    "\n",
    "        # run until a simply rook-wise connected lattice animal is created\n",
    "        while result == False:\n",
    "\n",
    "                # pre-defined insect body\n",
    "                body = np.ones((aspectRatio,1))\n",
    "\n",
    "                # Create a binary matrix with all zeros\n",
    "                wing = np.zeros((aspectRatio, aspectRatio), dtype=int)\n",
    "\n",
    "                # Set a nWing number of random elements to 1\n",
    "                positions = np.random.choice(aspectRatio**2, nWing, replace=False)\n",
    "                wing.flat[positions] = 1\n",
    "\n",
    "                # combine wing with a body and a mirrored wing\n",
    "                insect = np.concatenate((np.concatenate((wing,body),axis = 1),np.fliplr(wing)),axis = 1)\n",
    "\n",
    "                result = insectCheck(insect,checkValues,aspectRatio)\n",
    "\n",
    "        # return the insect matrix\n",
    "        return np.array(insect)"
   ]
  },
  {
   "cell_type": "code",
   "execution_count": 13,
   "metadata": {},
   "outputs": [
    {
     "data": {
      "text/plain": [
       "(-0.5, 10.5, 4.5, -0.5)"
      ]
     },
     "execution_count": 13,
     "metadata": {},
     "output_type": "execute_result"
    },
    {
     "data": {
      "image/png": "[encoded data removed]",
      "text/plain": [
       "<Figure size 400x100 with 2 Axes>"
      ]
     },
     "metadata": {},
     "output_type": "display_data"
    }
   ],
   "source": [
    "# GENERATING PARENTS WITH SAME NUMBER OF WING ELEMENTS AND PLOT PROBABILITY MAP\n",
    "size = 9        # area of wing\n",
    "aspectRatio = 5 # aspect ratio of body\n",
    "conversion = 1  # conversion of grid - here 1x1 mm^2\n",
    "\n",
    "parent1 = insectGeneration(aspectRatio,wingType = size)\n",
    "parent2 = insectGeneration(aspectRatio,wingType = size)\n",
    "\n",
    "plt.figure(figsize=(4, 1))\n",
    "plt.subplot(1,2,1)\n",
    "plt.imshow(parent1, cmap='binary', interpolation='nearest', vmin=0, vmax=2) # locals()[f'parent{m}']\n",
    "plt.xlim([-15,15])\n",
    "plt.axis('equal')\n",
    "plt.axis('off')\n",
    "plt.subplot(1,2,2)\n",
    "plt.imshow(parent2, cmap='binary', interpolation='nearest', vmin=0, vmax=2) # locals()[f'parent{m}']\n",
    "plt.xlim([-15,15])\n",
    "plt.axis('equal')\n",
    "plt.axis('off')\n"
   ]
  },
  {
   "cell_type": "code",
   "execution_count": 14,
   "metadata": {},
   "outputs": [],
   "source": [
    "## GENERATING A DAUGHTER BASED ON THE PROBABILITY MAP\n",
    "def daughterGen_prob(parent1 ,parent2 ,wingsize ,aspectRatio):\n",
    "    # order:\n",
    "    # calculate the parent wing probability map\n",
    "    # keep all the elements where the value is 1 (overlap between parents)\n",
    "    # determine all indices where the value is 0.5 (i.e. one parent has a wing element present)\n",
    "    # pick n random indices with a present wing element in a parent and fill them with ones, where n is the number of desired elements minus the number of existing ones # create final insect\n",
    "    # check that the insect is valid\n",
    "    # calculate parent wing probability map\n",
    "\n",
    "    # initiate for check of simply rook-wise connected polyominoes condition\n",
    "    result = False\n",
    "    checkValues = np.array([1,1])\n",
    "\n",
    "    #  insect body\n",
    "    body = np.ones((aspectRatio ,1))\n",
    "\n",
    "    # map of overlapping elements\n",
    "    probability = (parent1 + parent2)/2\n",
    "    probWing = np.copy(probability[:,0:aspectRatio])\n",
    "\n",
    "    # run until a simply rook-wise connected lattice animal is created\n",
    "    while result == False:\n",
    "\n",
    "        # keep all the elements where the value is 1 (overlap between parents)\n",
    "        wing = np.where(probWing < 1, 0, probWing)\n",
    "\n",
    "        # determine all indices where the value is 0.5 (i.e. one parent has a wing element present)\n",
    "        idx05 = np.argwhere(probWing == 0.5)\n",
    "\n",
    "        # pick n random indices with a present wing element in a parent and fill them with ones, where n is the number of desired elements minus the number of existing ones\n",
    "        n = int(wingsize - np.sum(wing))\n",
    "        idxs = random.sample(range(len(idx05)), n)\n",
    "        wing[tuple(idx05[idxs].T)] = 1\n",
    "        \n",
    "        # create the final insect\n",
    "        insect = np.concatenate((np.concatenate((wing,body),axis = 1),np.fliplr(wing)),axis = 1)\n",
    "        # check validity\n",
    "        result = insectCheck(insect ,checkValues ,aspectRatio)\n",
    "\n",
    "    # return the final insect\n",
    "    return insect"
   ]
  },
  {
   "cell_type": "code",
   "execution_count": 15,
   "metadata": {},
   "outputs": [],
   "source": [
    "## GENERATING A MUTATION THAT SWAPS OUT ONE ELEMENT AND PLACES IT IN AN EMPTY ELEMENT\n",
    "def mutateDaughter(daughter ,aspectRatio):\n",
    "    # order:\n",
    "    # extract the daughter wing\n",
    "    # determine all indices where the value is 1 and 0\n",
    "    # choose one randome index in both sets and switch the value # create final insect\n",
    "    # check that the insect is valid\n",
    "\n",
    "    # initiate for check of simply rook-wise connected polyominoes condition\n",
    "    result = False\n",
    "    checkValues = np.array([1,1])\n",
    "\n",
    "    #  insect body\n",
    "    body = np.ones((aspectRatio ,1))\n",
    "\n",
    "    # run until a simply rook-wise connected lattice animal is created\n",
    "    while result == False:\n",
    "\n",
    "        # extract the daughter wing\n",
    "        wing = np.copy(daughter[:,0:aspectRatio])\n",
    "\n",
    "        # determine all indices where the value is 1 and 0\n",
    "        idx0 = np.argwhere(wing == 0)\n",
    "        idx1 = np.argwhere(wing == 1)\n",
    "\n",
    "        # choose one randome index in both sets and switch the values\n",
    "        idx0s = random.sample(range(len(idx0)), 1)\n",
    "        wing[tuple(idx0[idx0s].T)] = 1\n",
    "        idx1s = random.sample(range(len(idx1)), 1)\n",
    "        wing[tuple(idx1[idx1s].T)] = 0\n",
    "\n",
    "        # create final insect\n",
    "        insect = np.concatenate((np.concatenate((wing,body),axis = 1),np.fliplr(wing)),axis = 1)\n",
    "\n",
    "        # check validity\n",
    "        result = insectCheck(insect ,checkValues ,aspectRatio)\n",
    "    \n",
    "    # return the final insect\n",
    "    return insect"
   ]
  },
  {
   "cell_type": "code",
   "execution_count": 16,
   "metadata": {},
   "outputs": [],
   "source": [
    "## FUNCTION THAT ENCOMPASSES ALL FUNCTIONS\n",
    "def daughterGen(parent1 ,parent2 ,aspectRatio ,wingsize ,mutateProbability):\n",
    "\n",
    "    # create breeded daughter\n",
    "    insect = daughterGen_prob(parent1 ,parent2 ,wingsize ,aspectRatio)\n",
    "    \n",
    "    # Mutate wing with the probability given\n",
    "    if random.random() < mutateProbability:\n",
    "        #print(’Daughter is mutated’)\n",
    "        insect = mutateDaughter(insect ,aspectRatio)\n",
    "    return insect"
   ]
  },
  {
   "cell_type": "code",
   "execution_count": 17,
   "metadata": {},
   "outputs": [
    {
     "data": {
      "text/plain": [
       "(-0.5, 10.5, 4.5, -0.5)"
      ]
     },
     "execution_count": 17,
     "metadata": {},
     "output_type": "execute_result"
    },
    {
     "data": {
      "image/png": "[encoded data removed]",
      "text/plain": [
       "<Figure size 400x100 with 2 Axes>"
      ]
     },
     "metadata": {},
     "output_type": "display_data"
    },
    {
     "data": {
      "image/png": "[encoded data removed]",
      "text/plain": [
       "<Figure size 400x200 with 1 Axes>"
      ]
     },
     "metadata": {},
     "output_type": "display_data"
    },
    {
     "data": {
      "image/png": "[encoded data removed]",
      "text/plain": [
       "<Figure size 400x200 with 1 Axes>"
      ]
     },
     "metadata": {},
     "output_type": "display_data"
    }
   ],
   "source": [
    "## GENERATING A PROBABILITY MAP FROM THE TWO PARENTS\n",
    "\n",
    "probability = (parent1 + parent2)/2\n",
    "probWing = np.copy(probability[:,0:aspectRatio])\n",
    "\n",
    "daughter = daughterGen(parent1,parent2,aspectRatio,wingsize = 9,mutateProbability = 0.2)\n",
    "\n",
    "# plotting parents\n",
    "plt.figure(figsize=(4, 1))\n",
    "plt.subplot(1,2,1)\n",
    "plt.imshow(parent1, cmap='binary', interpolation='nearest', vmin=0, vmax=2) # locals()[f'parent{m}']\n",
    "plt.xlim([-15,15])\n",
    "plt.axis('equal')\n",
    "plt.axis('off')\n",
    "plt.subplot(1,2,2)\n",
    "plt.imshow(parent2, cmap='binary', interpolation='nearest', vmin=0, vmax=2) # locals()[f'parent{m}']\n",
    "plt.xlim([-15,15])\n",
    "plt.axis('equal')\n",
    "plt.axis('off')\n",
    "\n",
    "# plotting distribution of overlapping elements\n",
    "plt.figure(figsize=(4, 2))\n",
    "plt.imshow(probability, cmap='binary', interpolation='nearest', vmin=0, vmax=1) # locals()[f'parent{m}']\n",
    "plt.xlim([-15,15])\n",
    "plt.axis('equal')\n",
    "plt.axis('off')\n",
    "\n",
    "# plot final daughter\n",
    "plt.figure(figsize=(4, 2))\n",
    "plt.imshow(daughter, cmap='binary', interpolation='nearest', vmin=0, vmax=1) # locals()[f'parent{m}']\n",
    "plt.xlim([-15,15])\n",
    "plt.axis('equal')\n",
    "plt.axis('off')"
   ]
  }
 ],
 "metadata": {
  "interpreter": {
   "hash": "b0fa6594d8f4cbf19f97940f81e996739fb7646882a419484c72d19e05852a7e"
  },
  "kernelspec": {
   "display_name": "Python 3.11.7 64-bit",
   "language": "python",
   "name": "python3"
  },
  "language_info": {
   "codemirror_mode": {
    "name": "ipython",
    "version": 3
   },
   "file_extension": ".py",
   "mimetype": "text/x-python",
   "name": "python",
   "nbconvert_exporter": "python",
   "pygments_lexer": "ipython3",
   "version": "3.11.7"
  },
  "orig_nbformat": 4
 },
 "nbformat": 4,
 "nbformat_minor": 2
}
